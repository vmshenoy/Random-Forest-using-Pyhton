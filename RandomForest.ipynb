{
 "cells": [
  {
   "cell_type": "raw",
   "metadata": {},
   "source": [
    "'''\n",
    "Random Forest is an ensemble of Decision Trees\n",
    "RF focuses on sampling both observations and variables of training data to develop independent decision trees \n",
    "and take majority voting for classification and averaging for regression problems respectively. \n",
    "In contrast, bagging samples only observations at random and selects all columns that have the deficiency of \n",
    "representing significant variables at root for all decision trees. \n",
    "This way makes trees that are dependent on each other, for which accuracy will be penalized.\n",
    " \n",
    "The following are a few rules of thumb when selecting sub-samples from observations using random forest.\n",
    "- About 2/3 of observations in training data for each individual tree\n",
    "- Select columns sqrt(p) -> For classification problem if p is total columns in training data\n",
    "- p/3 -> for regression problem if p is number of columns\n",
    "'''"
   ]
  },
  {
   "cell_type": "code",
   "execution_count": 26,
   "metadata": {},
   "outputs": [],
   "source": [
    "import numpy as np\n",
    "import pandas as pd\n",
    "from sklearn.ensemble import RandomForestClassifier\n",
    "from sklearn.model_selection import train_test_split\n",
    "from sklearn.metrics import accuracy_score,classification_report\n",
    "# use to ignore the warning, not a good pratice\n",
    "import warnings\n",
    "warnings.filterwarnings(\"ignore\")"
   ]
  },
  {
   "cell_type": "code",
   "execution_count": 4,
   "metadata": {},
   "outputs": [],
   "source": [
    "#loading the data from the file\n",
    "file_name = 'german.data'\n",
    "credit_data = pd.read_csv(file_name, header=None, delimiter=r\"\\s+\")\n",
    "credit_data.columns = ['account_check_status', 'duration_in_month',\n",
    "       'credit_history', 'purpose', 'credit_amount', 'savings',\n",
    "       'present_emp_since', 'installment_as_income_perc',\n",
    "       'personal_status_sex', 'other_debtors', 'present_res_since', 'property',\n",
    "       'age', 'other_installment_plans', 'housing', 'credits_this_bank', 'job',\n",
    "       'people_under_maintenance', 'telephone', 'foreign_worker','class']\n",
    "cols = list(credit_data.columns)"
   ]
  },
  {
   "cell_type": "code",
   "execution_count": 5,
   "metadata": {},
   "outputs": [],
   "source": [
    "#seperate the columns in to categorical and continous variables\n",
    "cols_new_cat = []#cateogrical\n",
    "cols_new_con = []#continious\n",
    "for i in cols[:-1]:\n",
    "    #print(i,\":\",credit_data[i].dtypes)    \n",
    "    if credit_data[i].dtypes == 'object':\n",
    "        cols_new_cat.append(i)   \n",
    "    else:\n",
    "        cols_new_con.append(i)   \n",
    "        \n",
    "#print(cols_new_cat)\n",
    "#print(cols_new_con)"
   ]
  },
  {
   "cell_type": "code",
   "execution_count": 7,
   "metadata": {},
   "outputs": [
    {
     "data": {
      "text/plain": [
       "(1000, 62)"
      ]
     },
     "execution_count": 7,
     "metadata": {},
     "output_type": "execute_result"
    }
   ],
   "source": [
    "#create the dummy columns for the categorical variables\n",
    "df_new = pd.DataFrame()\n",
    "for col in cols_new_cat:\n",
    "    pfx = col\n",
    "    dummy_temp = pd.get_dummies(credit_data[col], prefix=pfx)    \n",
    "    df_new = pd.concat([df_new,dummy_temp],axis=1,sort=False)\n",
    "\n",
    "df_new = pd.concat([df_new,credit_data[cols_new_con],credit_data['class']],axis=1,sort=False)\n",
    "    \n",
    "df_new.shape"
   ]
  },
  {
   "cell_type": "code",
   "execution_count": 8,
   "metadata": {},
   "outputs": [],
   "source": [
    "#spliting into Test & Training set\n",
    "x_train, x_test, y_train, y_test = train_test_split(df_new.drop(['class'],axis=1),df_new['class'],\n",
    "                                                   train_size=0.7, random_state=0)"
   ]
  },
  {
   "cell_type": "code",
   "execution_count": 9,
   "metadata": {},
   "outputs": [],
   "source": [
    "#initilize the RF model\n",
    "'''\n",
    "Number of trees is 1000\n",
    "Criterion of slitting is gini\n",
    "Maximum depth each decision tree can grow is 100\n",
    "Minimum observations required at each not to be eligible for splitting is 3\n",
    "Minimum number of observations in tree node should be 2\n",
    "'''\n",
    "model = RandomForestClassifier(n_estimators=1000, \n",
    "                               criterion='gini',\n",
    "                               max_depth=100,\n",
    "                               min_samples_split=3,\n",
    "                               min_samples_leaf=2)"
   ]
  },
  {
   "cell_type": "code",
   "execution_count": 10,
   "metadata": {},
   "outputs": [
    {
     "name": "stdout",
     "output_type": "stream",
     "text": [
      "RF Train Confusion Matrix\n",
      " Predicted    1    2\n",
      "Actual             \n",
      "1          486    0\n",
      "2           25  189\n",
      "\n",
      "RF Train Accuracy\n",
      " 0.964\n",
      "\n",
      "RF Test Confusion Matrix\n",
      " Predicted    1   2\n",
      "Actual            \n",
      "1          194  20\n",
      "2           46  40\n",
      "\n",
      "RF Test Accuracy\n",
      " 0.78\n"
     ]
    }
   ],
   "source": [
    "model.fit(x_train,y_train)\n",
    "\n",
    "print('RF Train Confusion Matrix\\n',\n",
    "     pd.crosstab(y_train, model.predict(x_train),\n",
    "                rownames=[\"Actual\"],\n",
    "                colnames=['Predicted']))\n",
    "\n",
    "print('\\nRF Train Accuracy\\n',\n",
    "     round(accuracy_score(y_train,model.predict(x_train)),3))\n",
    "\n",
    "print('\\nRF Test Confusion Matrix\\n',\n",
    "     pd.crosstab(y_test, model.predict(x_test),\n",
    "                rownames=[\"Actual\"],\n",
    "                colnames=['Predicted']))\n",
    "\n",
    "print('\\nRF Test Accuracy\\n',\n",
    "     round(accuracy_score(y_test, model.predict(x_test)),3))"
   ]
  },
  {
   "cell_type": "code",
   "execution_count": 11,
   "metadata": {},
   "outputs": [],
   "source": [
    "# implement Grid-Search on RF to get the list of best parameters\n",
    "from sklearn.pipeline import Pipeline\n",
    "from sklearn.model_selection import GridSearchCV"
   ]
  },
  {
   "cell_type": "code",
   "execution_count": 83,
   "metadata": {},
   "outputs": [
    {
     "data": {
      "text/plain": [
       "\"\\nparameters = {'clf__n_estimators':(1000,2000,3000),\\n             'clf__max_depth':(100,200,300),\\n             'clf__min_samples_split':(2,3),\\n             'clf__min_samples_leaf':(1,2)}\\n\""
      ]
     },
     "execution_count": 83,
     "metadata": {},
     "output_type": "execute_result"
    }
   ],
   "source": [
    "#create pipeline to iterate over the selected parameter combination\n",
    "pipeline = Pipeline([('clf',RandomForestClassifier(criterion='gini'))])\n",
    "parameters = {'clf__n_estimators':(1000,2000),\n",
    "             'clf__max_depth':(200,300),\n",
    "             'clf__min_samples_split':(2,3),\n",
    "             'clf__min_samples_leaf':(1,2)}\n",
    "'''\n",
    "parameters = {'clf__n_estimators':(1000,2000,3000),\n",
    "             'clf__max_depth':(100,200,300),\n",
    "             'clf__min_samples_split':(2,3),\n",
    "             'clf__min_samples_leaf':(1,2)}\n",
    "'''             "
   ]
  },
  {
   "cell_type": "code",
   "execution_count": 84,
   "metadata": {},
   "outputs": [
    {
     "name": "stdout",
     "output_type": "stream",
     "text": [
      "Fitting 5 folds for each of 16 candidates, totalling 80 fits\n"
     ]
    },
    {
     "name": "stderr",
     "output_type": "stream",
     "text": [
      "[Parallel(n_jobs=1)]: Done  80 out of  80 | elapsed:  3.4min finished\n"
     ]
    },
    {
     "name": "stdout",
     "output_type": "stream",
     "text": [
      "Best Training score: 0.776\n"
     ]
    }
   ],
   "source": [
    "grid_search = GridSearchCV(pipeline, parameters,n_jobs=1,cv=5,verbose=1,scoring='accuracy')\n",
    "grid_search.fit(x_train,y_train)\n",
    "print('Best Training score: %0.3f' %grid_search.best_score_)"
   ]
  },
  {
   "cell_type": "code",
   "execution_count": 19,
   "metadata": {},
   "outputs": [
    {
     "name": "stdout",
     "output_type": "stream",
     "text": [
      "Best parameter set:\n",
      "\tclf__max_depth: 300.000000\n",
      "\tclf__min_samples_leaf: 2.000000\n",
      "\tclf__min_samples_split: 2.000000\n",
      "\tclf__n_estimators: 2000.000000\n"
     ]
    }
   ],
   "source": [
    "print('Best parameter set:')\n",
    "best_parameters = grid_search.best_estimator_.get_params()\n",
    "for param_name in sorted(parameters.keys()):\n",
    "    print('\\t%s: %f'%(param_name,best_parameters[param_name]))"
   ]
  },
  {
   "cell_type": "code",
   "execution_count": 22,
   "metadata": {},
   "outputs": [
    {
     "name": "stdout",
     "output_type": "stream",
     "text": [
      "Testing Accuracy: 0.78\n",
      "Complete report of Testing\n",
      "             precision    recall  f1-score   support\n",
      "\n",
      "          1       0.81      0.91      0.86       214\n",
      "          2       0.67      0.45      0.54        86\n",
      "\n",
      "avg / total       0.77      0.78      0.77       300\n",
      "\n",
      "RF-Grid Search Confusion Matrix\n",
      "Predictions    1   2\n",
      "Actual              \n",
      "1            195  19\n",
      "2             47  39\n"
     ]
    }
   ],
   "source": [
    "# validation using the test set\n",
    "y_pred = grid_search.predict(x_test)\n",
    "print('Testing Accuracy:',round(accuracy_score(y_test,y_pred),4))\n",
    "print('Complete report of Testing')\n",
    "print(classification_report(y_test,y_pred))\n",
    "print('RF-Grid Search Confusion Matrix')\n",
    "print(pd.crosstab(y_test,y_pred,rownames=['Actual'],colnames=['Predictions']))"
   ]
  },
  {
   "cell_type": "code",
   "execution_count": 29,
   "metadata": {},
   "outputs": [],
   "source": [
    "# Get the variable importance values\n",
    "import matplotlib.pyplot as plt\n",
    "model =  RandomForestClassifier(n_estimators=1000,criterion='gini',max_depth=300,min_samples_split=3,min_samples_leaf=1)\n",
    "model.fit(x_train,y_train)\n",
    "\n",
    "imp = model.feature_importances_\n",
    "std = np.std([tree.feature_importances_ for tree in model.estimators_],axis=0)\n",
    "indices = np.argsort(imp)[::-1]\n",
    "colnames=list(x_train.columns)"
   ]
  },
  {
   "cell_type": "code",
   "execution_count": 47,
   "metadata": {},
   "outputs": [
    {
     "data": {
      "text/plain": [
       "(700, 61)"
      ]
     },
     "execution_count": 47,
     "metadata": {},
     "output_type": "execute_result"
    }
   ],
   "source": [
    "x_train.shape"
   ]
  },
  {
   "cell_type": "code",
   "execution_count": 49,
   "metadata": {},
   "outputs": [
    {
     "name": "stdout",
     "output_type": "stream",
     "text": [
      "Feature ranking\n",
      "Feature 55 , account_check_status_A11 0.102\n",
      "Feature 54 , account_check_status_A12 0.0805\n",
      "Feature 58 , account_check_status_A13 0.0733\n",
      "Feature 3 , account_check_status_A14 0.0511\n",
      "Feature 0 , credit_history_A30 0.0461\n",
      "Feature 57 , credit_history_A31 0.0317\n",
      "Feature 56 , credit_history_A32 0.0315\n",
      "Feature 8 , credit_history_A33 0.0194\n",
      "Feature 36 , credit_history_A34 0.0183\n",
      "Feature 25 , purpose_A40 0.0181\n",
      "Feature 59 , purpose_A41 0.0178\n",
      "Feature 19 , purpose_A410 0.0168\n",
      "Feature 9 , purpose_A42 0.0165\n",
      "Feature 1 , purpose_A43 0.0164\n",
      "Feature 4 , purpose_A44 0.0149\n",
      "Feature 42 , purpose_A45 0.0147\n",
      "Feature 23 , purpose_A46 0.0145\n",
      "Feature 5 , purpose_A48 0.0142\n",
      "Feature 48 , purpose_A49 0.0141\n",
      "Feature 30 , savings_A61 0.0141\n",
      "Feature 26 , savings_A62 0.0137\n",
      "Feature 44 , savings_A63 0.0136\n",
      "Feature 38 , savings_A64 0.0134\n",
      "Feature 31 , savings_A65 0.0133\n",
      "Feature 51 , present_emp_since_A71 0.0132\n",
      "Feature 50 , present_emp_since_A72 0.0132\n",
      "Feature 28 , present_emp_since_A73 0.0129\n",
      "Feature 6 , present_emp_since_A74 0.0128\n",
      "Feature 40 , present_emp_since_A75 0.0128\n",
      "Feature 43 , personal_status_sex_A91 0.0127\n",
      "Feature 60 , personal_status_sex_A92 0.0123\n",
      "Feature 12 , personal_status_sex_A93 0.0121\n",
      "Feature 13 , personal_status_sex_A94 0.012\n",
      "Feature 47 , other_debtors_A101 0.0119\n",
      "Feature 37 , other_debtors_A102 0.0118\n",
      "Feature 10 , other_debtors_A103 0.0117\n",
      "Feature 49 , property_A121 0.0115\n",
      "Feature 39 , property_A122 0.0114\n",
      "Feature 27 , property_A123 0.0106\n",
      "Feature 18 , property_A124 0.0102\n",
      "Feature 7 , other_installment_plans_A141 0.0101\n",
      "Feature 33 , other_installment_plans_A142 0.0091\n",
      "Feature 2 , other_installment_plans_A143 0.0091\n",
      "Feature 32 , housing_A151 0.009\n",
      "Feature 35 , housing_A152 0.0086\n",
      "Feature 20 , housing_A153 0.0085\n",
      "Feature 29 , job_A171 0.0071\n",
      "Feature 16 , job_A172 0.0071\n",
      "Feature 34 , job_A173 0.0069\n",
      "Feature 45 , job_A174 0.0067\n",
      "Feature 21 , telephone_A191 0.0066\n",
      "Feature 41 , telephone_A192 0.0063\n",
      "Feature 15 , foreign_worker_A201 0.0058\n",
      "Feature 24 , foreign_worker_A202 0.0056\n",
      "Feature 22 , duration_in_month 0.005\n",
      "Feature 14 , credit_amount 0.0033\n",
      "Feature 52 , installment_as_income_perc 0.0031\n",
      "Feature 53 , present_res_since 0.003\n",
      "Feature 46 , age 0.0025\n",
      "Feature 11 , credits_this_bank 0.0023\n",
      "Feature 17 , people_under_maintenance 0.0013\n"
     ]
    }
   ],
   "source": [
    "print('Feature ranking')\n",
    "for f in range(x_train.shape[1]):\n",
    "      print('Feature',indices[f],',',colnames[f], round(imp[indices[f]],4))"
   ]
  },
  {
   "cell_type": "code",
   "execution_count": 69,
   "metadata": {},
   "outputs": [
    {
     "data": {
      "image/png": "[encoded data removed]",
      "text/plain": [
       "<matplotlib.figure.Figure at 0x1f5ffe0ecf8>"
      ]
     },
     "metadata": {},
     "output_type": "display_data"
    }
   ],
   "source": [
    "plt.figure(figsize=(14,6))\n",
    "plt.bar(range(x_train.shape[1]),imp[indices],color='r',yerr=std[indices],align='center')\n",
    "plt.xticks(range(x_train.shape[1]),indices)\n",
    "plt.xlim([-1,x_train.shape[1]])\n",
    "plt.show()"
   ]
  },
  {
   "cell_type": "code",
   "execution_count": null,
   "metadata": {},
   "outputs": [],
   "source": []
  },
  {
   "cell_type": "code",
   "execution_count": null,
   "metadata": {},
   "outputs": [],
   "source": []
  },
  {
   "cell_type": "code",
   "execution_count": null,
   "metadata": {},
   "outputs": [],
   "source": []
  },
  {
   "cell_type": "code",
   "execution_count": null,
   "metadata": {},
   "outputs": [],
   "source": []
  }
 ],
 "metadata": {
  "kernelspec": {
   "display_name": "Python 3",
   "language": "python",
   "name": "python3"
  },
  "language_info": {
   "codemirror_mode": {
    "name": "ipython",
    "version": 3
   },
   "file_extension": ".py",
   "mimetype": "text/x-python",
   "name": "python",
   "nbconvert_exporter": "python",
   "pygments_lexer": "ipython3",
   "version": "3.6.3"
  }
 },
 "nbformat": 4,
 "nbformat_minor": 2
}
